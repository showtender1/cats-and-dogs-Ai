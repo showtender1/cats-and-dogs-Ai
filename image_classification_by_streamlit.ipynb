{
  "nbformat": 4,
  "nbformat_minor": 0,
  "metadata": {
    "colab": {
      "provenance": [],
      "authorship_tag": "ABX9TyPToHd7tj4g6a6SEp9JQOFn",
      "include_colab_link": true
    },
    "kernelspec": {
      "name": "python3",
      "display_name": "Python 3"
    },
    "language_info": {
      "name": "python"
    }
  },
  "cells": [
    {
      "cell_type": "markdown",
      "metadata": {
        "id": "view-in-github",
        "colab_type": "text"
      },
      "source": [
        "<a href=\"https://colab.research.google.com/github/showtender1/test/blob/main/image_classification_by_streamlit.ipynb\" target=\"_parent\"><img src=\"https://colab.research.google.com/assets/colab-badge.svg\" alt=\"Open In Colab\"/></a>"
      ]
    },
    {
      "cell_type": "code",
      "source": [
        "# 먼저 필요한 패키지를 설치합니다.\n",
        "!pip install streamlit -q\n",
        "!pip install pyngrok\n"
      ],
      "metadata": {
        "colab": {
          "base_uri": "https://localhost:8080/"
        },
        "id": "wo8jn6kLcR9O",
        "outputId": "d204b482-a530-47d5-84df-a1ffaabb0229"
      },
      "execution_count": 2,
      "outputs": [
        {
          "output_type": "stream",
          "name": "stdout",
          "text": [
            "\u001b[2K     \u001b[90m━━━━━━━━━━━━━━━━━━━━━━━━━━━━━━━━━━━━━━━━\u001b[0m \u001b[32m8.6/8.6 MB\u001b[0m \u001b[31m30.6 MB/s\u001b[0m eta \u001b[36m0:00:00\u001b[0m\n",
            "\u001b[2K     \u001b[90m━━━━━━━━━━━━━━━━━━━━━━━━━━━━━━━━━━━━━━━━\u001b[0m \u001b[32m207.3/207.3 kB\u001b[0m \u001b[31m11.8 MB/s\u001b[0m eta \u001b[36m0:00:00\u001b[0m\n",
            "\u001b[2K     \u001b[90m━━━━━━━━━━━━━━━━━━━━━━━━━━━━━━━━━━━━━━━━\u001b[0m \u001b[32m6.9/6.9 MB\u001b[0m \u001b[31m53.2 MB/s\u001b[0m eta \u001b[36m0:00:00\u001b[0m\n",
            "\u001b[2K     \u001b[90m━━━━━━━━━━━━━━━━━━━━━━━━━━━━━━━━━━━━━━━━\u001b[0m \u001b[32m83.0/83.0 kB\u001b[0m \u001b[31m5.9 MB/s\u001b[0m eta \u001b[36m0:00:00\u001b[0m\n",
            "\u001b[2K     \u001b[90m━━━━━━━━━━━━━━━━━━━━━━━━━━━━━━━━━━━━━━━━\u001b[0m \u001b[32m62.7/62.7 kB\u001b[0m \u001b[31m5.6 MB/s\u001b[0m eta \u001b[36m0:00:00\u001b[0m\n",
            "\u001b[?25hCollecting pyngrok\n",
            "  Downloading pyngrok-7.1.6-py3-none-any.whl (22 kB)\n",
            "Requirement already satisfied: PyYAML>=5.1 in /usr/local/lib/python3.10/dist-packages (from pyngrok) (6.0.1)\n",
            "Installing collected packages: pyngrok\n",
            "Successfully installed pyngrok-7.1.6\n"
          ]
        }
      ]
    },
    {
      "cell_type": "code",
      "source": [
        "# ngrok 토큰을 설정합니다.\n",
        "from pyngrok import ngrok\n",
        "ngrok.set_auth_token('2jKr3OhthBNZOyWrnqmhsSLuXjq_7eGq5YW2Dd9FK73X4Xjhk')\n",
        "\n"
      ],
      "metadata": {
        "id": "KxFXkeoKcq8G",
        "colab": {
          "base_uri": "https://localhost:8080/"
        },
        "outputId": "fbb9be58-0b8f-4f03-b470-9e3cce741b56"
      },
      "execution_count": 3,
      "outputs": [
        {
          "output_type": "stream",
          "name": "stdout",
          "text": []
        }
      ]
    },
    {
      "cell_type": "code",
      "source": [
        "%%writefile app.py\n",
        "import streamlit as st\n",
        "import tensorflow as tf\n",
        "from PIL import Image, ImageOps\n",
        "import numpy as np\n",
        "from tensorflow.keras.applications.imagenet_utils import decode_predictions\n",
        "\n",
        "resnet50_pre = tf.keras.applications.resnet50.ResNet50(weights='imagenet', input_shape=(224,224,3))\n",
        "\n",
        "st.title('이미지 분류 인공지능 웹페이지')\n",
        "file = st.file_uploader('이미지를 올려주세요.', type=['jpg', 'png'])\n",
        "\n",
        "if file is None:\n",
        "    st.text('이미지를 올려주세요.')\n",
        "else:\n",
        "    image = Image.open(file)\n",
        "    st.image(image, use_column_width=True)\n",
        "    img_resized = ImageOps.fit(image, (224, 224), Image.ANTIALIAS)\n",
        "    img_resized = img_resized.convert(\"RGB\")\n",
        "    img_resized = np.asarray(img_resized)\n",
        "\n",
        "    pred = resnet50_pre.predict(img_resized.reshape(1,224,224,3))\n",
        "    decode_pred = decode_predictions(pred)\n",
        "    results = ''\n",
        "    for i, instance in enumerate(decode_pred[0]):\n",
        "        results += '{}위: {} ({:.2f}%) '.format(i+1, instance[1], instance[2]*100)\n",
        "    st.success(results)\n"
      ],
      "metadata": {
        "colab": {
          "base_uri": "https://localhost:8080/"
        },
        "id": "JB5tOYMkcred",
        "outputId": "6e9a5376-b09d-47e8-d6c8-8323a1ec94f0"
      },
      "execution_count": 4,
      "outputs": [
        {
          "output_type": "stream",
          "name": "stdout",
          "text": [
            "Writing app.py\n"
          ]
        }
      ]
    },
    {
      "cell_type": "code",
      "source": [
        "!nohup streamlit run app.py --server.port 80 &\n"
      ],
      "metadata": {
        "id": "AQ5RKBgidNZP",
        "outputId": "1e434df8-26f4-42c9-a101-fed434189157",
        "colab": {
          "base_uri": "https://localhost:8080/"
        }
      },
      "execution_count": 5,
      "outputs": [
        {
          "output_type": "stream",
          "name": "stdout",
          "text": [
            "nohup: appending output to 'nohup.out'\n"
          ]
        }
      ]
    },
    {
      "cell_type": "code",
      "source": [
        "# ngrok을 사용하여 외부에서 접속할 수 있는 URL을 생성합니다.\n",
        "public_url = ngrok.connect(80)\n",
        "print(\"Streamlit 앱에 접근하려면 이 URL을 사용하세요:\", public_url)\n"
      ],
      "metadata": {
        "id": "kW2rEwgOdPpc",
        "outputId": "8cb63172-1520-46e4-a5f7-e45e1f5f01f9",
        "colab": {
          "base_uri": "https://localhost:8080/"
        }
      },
      "execution_count": 6,
      "outputs": [
        {
          "output_type": "stream",
          "name": "stdout",
          "text": [
            "Streamlit 앱에 접근하려면 이 URL을 사용하세요: NgrokTunnel: \"https://c070-35-227-81-182.ngrok-free.app\" -> \"http://localhost:80\"\n"
          ]
        }
      ]
    },
    {
      "cell_type": "code",
      "source": [
        "!git init"
      ],
      "metadata": {
        "colab": {
          "base_uri": "https://localhost:8080/"
        },
        "id": "S8UOInJNF7N9",
        "outputId": "32ec8fd5-d264-4fc9-bcfc-7e228ad3dc43"
      },
      "execution_count": 27,
      "outputs": [
        {
          "output_type": "stream",
          "name": "stdout",
          "text": [
            "Reinitialized existing Git repository in /content/.git/\n"
          ]
        }
      ]
    },
    {
      "cell_type": "code",
      "source": [
        "!git remote add origin https://github.com/showtender1/cats-and-dogs.git"
      ],
      "metadata": {
        "id": "kqk7txugICc9"
      },
      "execution_count": 31,
      "outputs": []
    },
    {
      "cell_type": "code",
      "source": [],
      "metadata": {
        "id": "VL6WVR7jIdTQ"
      },
      "execution_count": null,
      "outputs": []
    },
    {
      "cell_type": "code",
      "source": [
        "!git remote rm origin"
      ],
      "metadata": {
        "id": "7ZQFL137ILIN"
      },
      "execution_count": 30,
      "outputs": []
    },
    {
      "cell_type": "code",
      "source": [
        "!git add ."
      ],
      "metadata": {
        "colab": {
          "base_uri": "https://localhost:8080/"
        },
        "id": "4AYZ5Jl9IcNF",
        "outputId": "1eecfc04-0359-4af3-d9de-a822474449ac"
      },
      "execution_count": 33,
      "outputs": [
        {
          "output_type": "stream",
          "name": "stdout",
          "text": [
            "error: 'dog-Vs-cat-AI/' does not have a commit checked out\n",
            "fatal: adding files failed\n"
          ]
        }
      ]
    },
    {
      "cell_type": "code",
      "source": [
        "\n",
        "!apt-get install git\n",
        "!git config --global user.email \"mandoo99912@gmail.com\"\n",
        "!git config --global user.name \"showtender1\"\n",
        "\n",
        "!git init\n",
        "\n",
        "!git remote remove origin\n",
        "!git remote add origin https://github.com/showtender1/cats-and-dogs.git\n",
        "\n",
        "!git add .\n",
        "!git commit -m \"Initial commit\"\n",
        "\n",
        "!git branch -M main\n",
        "!git push -u origin main"
      ],
      "metadata": {
        "colab": {
          "base_uri": "https://localhost:8080/"
        },
        "id": "sSLfkSiDIhqU",
        "outputId": "80d9cbe7-c3b9-4902-bbc0-302032b61dbc"
      },
      "execution_count": 34,
      "outputs": [
        {
          "output_type": "stream",
          "name": "stdout",
          "text": [
            "Reading package lists... Done\n",
            "Building dependency tree... Done\n",
            "Reading state information... Done\n",
            "git is already the newest version (1:2.34.1-1ubuntu1.11).\n",
            "0 upgraded, 0 newly installed, 0 to remove and 45 not upgraded.\n",
            "Reinitialized existing Git repository in /content/.git/\n",
            "error: 'dog-Vs-cat-AI/' does not have a commit checked out\n",
            "fatal: adding files failed\n",
            "On branch main\n",
            "\n",
            "Initial commit\n",
            "\n",
            "Untracked files:\n",
            "  (use \"git add <file>...\" to include in what will be committed)\n",
            "\t\u001b[31m.config/\u001b[m\n",
            "\t\u001b[31mapp.py\u001b[m\n",
            "\t\u001b[31mdog-Vs-cat-AI/\u001b[m\n",
            "\t\u001b[31mnohup.out\u001b[m\n",
            "\t\u001b[31msample_data/\u001b[m\n",
            "\n",
            "nothing added to commit but untracked files present (use \"git add\" to track)\n",
            "error: src refspec main does not match any\n",
            "\u001b[31merror: failed to push some refs to 'https://github.com/showtender1/cats-and-dogs.git'\n",
            "\u001b[m"
          ]
        }
      ]
    },
    {
      "cell_type": "code",
      "source": [],
      "metadata": {
        "id": "lEZ3--GkI3VL"
      },
      "execution_count": null,
      "outputs": []
    }
  ]
}